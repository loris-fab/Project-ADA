{
 "cells": [
  {
   "cell_type": "markdown",
   "metadata": {},
   "source": [
    "# Pandas overview"
   ]
  },
  {
   "cell_type": "markdown",
   "metadata": {},
   "source": [
    "## Introduction to Pandas"
   ]
  },
  {
   "cell_type": "code",
   "execution_count": 3,
   "metadata": {},
   "outputs": [
    {
     "name": "stdout",
     "output_type": "stream",
     "text": [
      "Firmicutes         632\n",
      "Proteobacteria    1638\n",
      "Actinobacteria     569\n",
      "Bacteroidetes      115\n",
      "dtype: int64\n",
      "Proteobacteria    1638\n",
      "Actinobacteria     569\n",
      "dtype: int64\n",
      "Proteobacteria    1638\n",
      "dtype: int64\n",
      "Firmicutes         632\n",
      "Proteobacteria    1638\n",
      "Actinobacteria     569\n",
      "dtype: int64\n",
      "Firmicutes         632\n",
      "Proteobacteria    1638\n",
      "dtype: int64\n",
      "Firmicutes        False\n",
      "Proteobacteria    False\n",
      "dtype: bool\n",
      "a    5\n",
      "b    7\n",
      "c    9\n",
      "dtype: int64\n"
     ]
    }
   ],
   "source": [
    "import pandas as pd\n",
    "\n",
    "# Création d'une série avec pandas\n",
    "counts = pd.Series([632, 1638, 569, 115], index=['Firmicutes', 'Proteobacteria', 'Actinobacteria', 'Bacteroidetes'])\n",
    "print(counts)  # Affichage de la série\n",
    "\n",
    "# Filtrage par nom d'index qui se termine par 'bacteria'\n",
    "filtered_bacteria = counts[[name.endswith('bacteria') for name in counts.index]]\n",
    "print(filtered_bacteria)\n",
    "\n",
    "# Filtrage des valeurs supérieures à 1000\n",
    "high_counts = counts[counts > 1000]\n",
    "print(high_counts)\n",
    "\n",
    "# Lecture avec condition sous forme de série booléenne\n",
    "condition = counts > 500\n",
    "print(counts[condition])\n",
    "\n",
    "# Création d'une série à partir d'un dictionnaire\n",
    "data_dict = {'Firmicutes': 632, 'Proteobacteria': 1638}\n",
    "series_from_dict = pd.Series(data_dict)\n",
    "print(series_from_dict)\n",
    "\n",
    "# Identification des valeurs manquantes\n",
    "is_null = series_from_dict.isnull()\n",
    "print(is_null)\n",
    "\n",
    "# Alignement de deux séries par addition\n",
    "series1 = pd.Series([1, 2, 3], index=['a', 'b', 'c'])\n",
    "series2 = pd.Series([4, 5, 6], index=['a', 'b', 'c'])\n",
    "aligned_series = series1 + series2\n",
    "print(aligned_series)\n"
   ]
  },
  {
   "cell_type": "markdown",
   "metadata": {},
   "source": []
  },
  {
   "cell_type": "code",
   "execution_count": 2,
   "metadata": {},
   "outputs": [
    {
     "name": "stdout",
     "output_type": "stream",
     "text": [
      "   value  patient          phylum  year\n",
      "1   1638        1  Proteobacteria  2013\n"
     ]
    },
    {
     "name": "stderr",
     "output_type": "stream",
     "text": [
      "/var/folders/w1/f3785wtj77166md17d9fj02w0000gn/T/ipykernel_28276/2225023308.py:16: SettingWithCopyWarning: \n",
      "A value is trying to be set on a copy of a slice from a DataFrame\n",
      "\n",
      "See the caveats in the documentation: https://pandas.pydata.org/pandas-docs/stable/user_guide/indexing.html#returning-a-view-versus-a-copy\n",
      "  vals[5] = 0 # changer la valeur de la 5eme ligne\n",
      "/var/folders/w1/f3785wtj77166md17d9fj02w0000gn/T/ipykernel_28276/2225023308.py:19: SettingWithCopyWarning: \n",
      "A value is trying to be set on a copy of a slice from a DataFrame\n",
      "\n",
      "See the caveats in the documentation: https://pandas.pydata.org/pandas-docs/stable/user_guide/indexing.html#returning-a-view-versus-a-copy\n",
      "  data.value[[3,4,6]] = [14, 21, 5] # changer les valeurs des lignes 3, 4 et 6 de la colonne value\n"
     ]
    }
   ],
   "source": [
    "import pandas as pd\n",
    "\n",
    "data = pd.DataFrame({'value':[632, 1638, 569, 115, 433, 1130, 754, 555],\n",
    "                     'patient':[1, 1, 1, 1, 2, 2, 2, 2],\n",
    "                     'phylum':['Firmicutes', 'Proteobacteria', 'Actinobacteria', \n",
    "    'Bacteroidetes', 'Firmicutes', 'Proteobacteria', 'Actinobacteria', 'Bacteroidetes']})\n",
    "print(data)\n",
    "\n",
    "data[['phylum','value','patient']] # ordre des colonnes\n",
    "data.index # index des lignes\n",
    "data['patient'] # colonne patient\n",
    "data.patient # colonne patient\n",
    "data.loc[3] # acceder à la ligne 3\n",
    "data.shape[0] # dimension de la colonne 0\n",
    "vals = data.value # valeurs de la colonne value qui est une serie pandas\n",
    "vals[5] = 0 # changer la valeur de la 5eme ligne\n",
    "# Attention: cela modifie le DataFrame original\n",
    "data_copy = data.value.copy()\n",
    "data.value[[3,4,6]] = [14, 21, 5] # changer les valeurs des lignes 3, 4 et 6 de la colonne value\n",
    "data['year'] = 2013 # ajouter une colonne year\n",
    "data.treatment = 1 # n'ajoute pas de colonne treatment\n",
    "\n",
    "#La méthode .apply de Pandas est utilisée pour appliquer une fonction à chaque élément d'une série ou d'un DataFrame & x est une ligne\n",
    "print(data[data['phylum'].apply(lambda x: x.endswith('bacteria')) & data['value'].apply(lambda x: x > 1000)])\n",
    "\n",
    "data_nomonth = data.drop('treatment', axis=1) # supprimer la colonne \"treatment\"\n",
    "data2 = data.drop([0,1]) # supprimer les lignes 0 et 1\n",
    "data.nlargest(3,\"Value\") # les 3 lignes avec les valeurs les plus grandes"
   ]
  },
  {
   "cell_type": "markdown",
   "metadata": {},
   "source": [
    "NumPy's math functions and other operations can be applied to Series without losing the data structure.\n",
    "np.log(bacteria)\n",
    "bacteria.apply(np.log)"
   ]
  },
  {
   "cell_type": "markdown",
   "metadata": {},
   "source": [
    "## Importation data"
   ]
  },
  {
   "cell_type": "markdown",
   "metadata": {},
   "source": [
    "### CSV"
   ]
  },
  {
   "cell_type": "code",
   "execution_count": null,
   "metadata": {},
   "outputs": [],
   "source": [
    "!head Data/microbiome.csv # afficher les 10 premières lignes du fichier microbiome.csv\n",
    "mb = pd.read_csv(\"Data/microbiome.csv\", sep=',') # lire le fichier microbiome.csv parfois sep='\\s+'\n",
    "mb.head() # afficher les 5 premières lignes du DataFrame mb\n",
    "#We can override default behavior by customizing some the arguments, like `header`, `names` or `index_col`.\n",
    "pd.read_csv(\"Data/microbiome.csv\", skiprows=[3,4,6]) # Enleve les lignes 3, 4 et 6\n",
    "pd.read_csv(\"Data/microbiome.csv\", nrows=4) # Ne prend que les 4 premières lignes\n",
    "#Parfois des valeurs manquent dans les données. Panda les remplace par NaN.\n",
    "pd.isnull(pd.read_csv(\"Data/microbiome_missing.csv\")) # Affiche true si la valeur est manquante\n",
    "valeurs_marquante = pd.read_csv(\"Data/microbiome_missing.csv\", na_values=['?', -99999]) # Remplace les valeurs manquantes par NaN\n",
    "\n",
    "\n",
    "\n"
   ]
  },
  {
   "cell_type": "markdown",
   "metadata": {},
   "source": [
    "### Excel"
   ]
  },
  {
   "cell_type": "code",
   "execution_count": null,
   "metadata": {},
   "outputs": [],
   "source": [
    "mb = pd.read_excel('Data/microbiome_MID2.xls', sheet_name='Sheet 1', header=None)\n",
    "mb.head()\n"
   ]
  },
  {
   "cell_type": "markdown",
   "metadata": {},
   "source": [
    "#### pickel (binary)"
   ]
  },
  {
   "cell_type": "code",
   "execution_count": null,
   "metadata": {},
   "outputs": [],
   "source": [
    "pd.read_pickle(\"data_pickle\") # lire un fichier pickle"
   ]
  },
  {
   "cell_type": "markdown",
   "metadata": {},
   "source": [
    "### indexing and selection"
   ]
  },
  {
   "cell_type": "code",
   "execution_count": null,
   "metadata": {},
   "outputs": [],
   "source": [
    "baseball = pd.read_csv(\"Data/baseball.csv\", index_col='id')\n",
    "baseball.index.is_unique # Vérifie si l'index est unique\n",
    "baseball.index = baseball.player # Change l'index en player\n",
    "baseball['womacto01CHN2006':'gonzalu01ARI2006'] # Affiche les lignes de womacto01CHN2006 à gonzalu01ARI2006\n",
    "min_ab = 500\n",
    "baseball.query(\"ab > @min_ab\") # Affiche les lignes où ab > 500 (il faut mettre une chaine de caractère)\n",
    "#iloc permet de sélectionner des lignes et des colonnes par position\n",
    "baseball.iloc[:5, 5:8] # Affiche les lignes de 0 à 5 et les colonnes de 5 à 8\n",
    "baseball_h = baseball.set_index(['year', 'team', 'player']) #indxexation hiérarchique à partir de plusieurs colonnes\n",
    "baseball_h.loc[(2007, 'ATL', 'francju01')] # Accès à une ligne dun DataFrame hiérarchique\n"
   ]
  },
  {
   "cell_type": "markdown",
   "metadata": {},
   "source": [
    "### Operation & Sorting\n"
   ]
  },
  {
   "cell_type": "markdown",
   "metadata": {},
   "source": []
  },
  {
   "cell_type": "code",
   "execution_count": null,
   "metadata": {},
   "outputs": [],
   "source": [
    "hr_total = baseball\n",
    "hr_total[hr_total.notnull()] # Affiche les lignes où il n'y a pas de valeurs manquantes\n",
    "hr_total.dropna() # Enlève les lignes où il y a des valeurs manquantes\n",
    "hr_total.dropna(how='all') # which only drops a row when every field is a missing value.\n",
    "hr_total.fillna(0) # Remplace les valeurs manquantes par 0\n",
    "data.fillna({'year': 2013, 'treatment':2}) # Remplace les valeurs manquantes de year par 2013 et treatment par 2\n",
    "\n",
    "data['treatment'].fillna(2, inplace=True) #inplace=True : Modifie l'objet d'origine directement. Aucun nouvel objet n'est retourné. // inplace=False : Crée et retourne une nouvelle copie de l'objet avec les modifications, laissant l'objet d'origine inchangé.\n",
    "baseball.sum(numeric_only=True) # retourne la somme de chaque colonne. numeric_only=True : ignore les colonnes avec des chaines de caractères\n",
    "baseball.mean(skipna=False) # retourne la moyenne de chaque colonne. skipna=False : inclut les valeurs manquantes\n",
    "baseball.describe() # retourne des statistiques descriptives pour chaque colonne (pour series et DataFrame)\n"
   ]
  },
  {
   "cell_type": "markdown",
   "metadata": {},
   "source": [
    "We can also calculate summary statistics *across* multiple columns, for example, correlation and covariance.\n",
    "\n",
    "$$cov(x,y) = \\sum_i (x_i - \\bar{x})(y_i - \\bar{y})$$"
   ]
  },
  {
   "cell_type": "code",
   "execution_count": null,
   "metadata": {},
   "outputs": [
    {
     "data": {
      "text/plain": [
       "69.07646464646454"
      ]
     },
     "metadata": {},
     "output_type": "display_data"
    }
   ],
   "source": [
    "baseball.hr.cov(baseball.X2b)"
   ]
  },
  {
   "cell_type": "markdown",
   "metadata": {},
   "source": [
    "$$corr(x,y) = \\frac{cov(x,y)}{(n-1)s_x s_y} = \\frac{\\sum_i (x_i - \\bar{x})(y_i - \\bar{y})}{\\sqrt{\\sum_i (x_i - \\bar{x})^2 \\sum_i (y_i - \\bar{y})^2}}$$"
   ]
  },
  {
   "cell_type": "code",
   "execution_count": null,
   "metadata": {},
   "outputs": [
    {
     "data": {
      "text/plain": [
       "0.7790615182539742"
      ]
     },
     "metadata": {},
     "output_type": "display_data"
    }
   ],
   "source": [
    "baseball.hr.corr(baseball.X2b)"
   ]
  },
  {
   "cell_type": "markdown",
   "metadata": {},
   "source": [
    "### Affichage"
   ]
  },
  {
   "cell_type": "code",
   "execution_count": null,
   "metadata": {},
   "outputs": [
    {
     "name": "stdout",
     "output_type": "stream",
     "text": [
      "       hr  X2b\n",
      "id            \n",
      "88653  15   52\n",
      "89360  35   19\n",
      "89361  26   30\n",
      "89371  21   28\n",
      "89374  21   24\n",
      "89378  25   20\n",
      "89389  11   31\n",
      "89396  20   33\n",
      "89439  20   36\n",
      "89462  30   24\n",
      "89466  15   23\n",
      "89481  12   15\n",
      "89489  24   30\n",
      "89521  28   14\n",
      "89533  13   19\n"
     ]
    },
    {
     "data": {
      "text/plain": [
       "<Axes: xlabel='hr', ylabel='X2b'>"
      ]
     },
     "metadata": {},
     "output_type": "display_data"
    },
    {
     "data": {
      "image/png": "[encoded data removed]",
      "text/plain": [
       "<Figure size 640x480 with 1 Axes>"
      ]
     },
     "metadata": {},
     "output_type": "display_data"
    }
   ],
   "source": [
    "\n",
    "baseball.plot.scatter(x='hr', y='X2b')"
   ]
  },
  {
   "cell_type": "code",
   "execution_count": null,
   "metadata": {},
   "outputs": [
    {
     "data": {
      "text/plain": [
       "<Axes: >"
      ]
     },
     "metadata": {},
     "output_type": "display_data"
    },
    {
     "data": {
      "image/png": "[encoded data removed]",
      "text/plain": [
       "<Figure size 640x480 with 1 Axes>"
      ]
     },
     "metadata": {},
     "output_type": "display_data"
    }
   ],
   "source": [
    "baseball['ab'].hist()"
   ]
  },
  {
   "cell_type": "markdown",
   "metadata": {},
   "source": [
    "### Writing Data to Files"
   ]
  },
  {
   "cell_type": "code",
   "execution_count": null,
   "metadata": {},
   "outputs": [],
   "source": [
    "mb.to_csv(\"mb.csv\") # Sauvegarde le DataFrame mb dans un fichier csv\n",
    "baseball.to_pickle(\"baseball_pickle\") # Sauvegarde le DataFrame baseball dans un fichier pickle"
   ]
  },
  {
   "cell_type": "markdown",
   "metadata": {},
   "source": [
    "### Date/Time data handling"
   ]
  },
  {
   "cell_type": "code",
   "execution_count": null,
   "metadata": {},
   "outputs": [],
   "source": [
    "from datetime import datetime, date, time\n",
    "now = datetime.now() #return (year, month, day, hour, minute, second, microsecond)\n",
    "object = date(2024) #create a date object datetime64[ns]\n",
    "object.dtypes #return the type of the object\n",
    "from dateutil.parser import parse \n",
    "parse(\"6/12/2011\", dayfirst=True) #convert a string to a date object\n",
    "segments = pd.read_csv(\"Data/transit_segments.csv\", parse_dates=['st_time', 'end_time'], date_format='%m/%d/%y %H:%M', nrows=1000) \n",
    "#parse_dates : convertit les colonnes en objets datetime #date_format : format de la date\n",
    "segments.st_time.dt.month==2 #return les lignes où le mois est février (=2)\n"
   ]
  },
  {
   "cell_type": "markdown",
   "metadata": {},
   "source": [
    "### Merging and joining DataFrame objects"
   ]
  },
  {
   "cell_type": "code",
   "execution_count": 34,
   "metadata": {},
   "outputs": [
    {
     "name": "stdout",
     "output_type": "stream",
     "text": [
      "   id1     name\n",
      "0    1    Alice\n",
      "1    2      Bob\n",
      "2    3  Charlie\n",
      "3    4    David\n",
      "   id2  score\n",
      "0    3     85\n",
      "1    4     90\n",
      "2    5     95\n",
      "3    6    100\n"
     ]
    },
    {
     "data": {
      "text/html": [
       "<div>\n",
       "<style scoped>\n",
       "    .dataframe tbody tr th:only-of-type {\n",
       "        vertical-align: middle;\n",
       "    }\n",
       "\n",
       "    .dataframe tbody tr th {\n",
       "        vertical-align: top;\n",
       "    }\n",
       "\n",
       "    .dataframe thead th {\n",
       "        text-align: right;\n",
       "    }\n",
       "</style>\n",
       "<table border=\"1\" class=\"dataframe\">\n",
       "  <thead>\n",
       "    <tr style=\"text-align: right;\">\n",
       "      <th></th>\n",
       "      <th>id1</th>\n",
       "      <th>name</th>\n",
       "      <th>id2</th>\n",
       "      <th>score</th>\n",
       "    </tr>\n",
       "  </thead>\n",
       "  <tbody>\n",
       "    <tr>\n",
       "      <th>0</th>\n",
       "      <td>1</td>\n",
       "      <td>Alice</td>\n",
       "      <td>3</td>\n",
       "      <td>85</td>\n",
       "    </tr>\n",
       "    <tr>\n",
       "      <th>1</th>\n",
       "      <td>2</td>\n",
       "      <td>Bob</td>\n",
       "      <td>4</td>\n",
       "      <td>90</td>\n",
       "    </tr>\n",
       "    <tr>\n",
       "      <th>2</th>\n",
       "      <td>3</td>\n",
       "      <td>Charlie</td>\n",
       "      <td>5</td>\n",
       "      <td>95</td>\n",
       "    </tr>\n",
       "    <tr>\n",
       "      <th>3</th>\n",
       "      <td>4</td>\n",
       "      <td>David</td>\n",
       "      <td>6</td>\n",
       "      <td>100</td>\n",
       "    </tr>\n",
       "  </tbody>\n",
       "</table>\n",
       "</div>"
      ],
      "text/plain": [
       "   id1     name  id2  score\n",
       "0    1    Alice    3     85\n",
       "1    2      Bob    4     90\n",
       "2    3  Charlie    5     95\n",
       "3    4    David    6    100"
      ]
     },
     "metadata": {},
     "output_type": "display_data"
    },
    {
     "data": {
      "text/html": [
       "<div>\n",
       "<style scoped>\n",
       "    .dataframe tbody tr th:only-of-type {\n",
       "        vertical-align: middle;\n",
       "    }\n",
       "\n",
       "    .dataframe tbody tr th {\n",
       "        vertical-align: top;\n",
       "    }\n",
       "\n",
       "    .dataframe thead th {\n",
       "        text-align: right;\n",
       "    }\n",
       "</style>\n",
       "<table border=\"1\" class=\"dataframe\">\n",
       "  <thead>\n",
       "    <tr style=\"text-align: right;\">\n",
       "      <th></th>\n",
       "      <th>id1</th>\n",
       "      <th>name</th>\n",
       "      <th>id2</th>\n",
       "      <th>score</th>\n",
       "    </tr>\n",
       "  </thead>\n",
       "  <tbody>\n",
       "    <tr>\n",
       "      <th>0</th>\n",
       "      <td>3</td>\n",
       "      <td>Charlie</td>\n",
       "      <td>3</td>\n",
       "      <td>85</td>\n",
       "    </tr>\n",
       "    <tr>\n",
       "      <th>1</th>\n",
       "      <td>4</td>\n",
       "      <td>David</td>\n",
       "      <td>4</td>\n",
       "      <td>90</td>\n",
       "    </tr>\n",
       "  </tbody>\n",
       "</table>\n",
       "</div>"
      ],
      "text/plain": [
       "   id1     name  id2  score\n",
       "0    3  Charlie    3     85\n",
       "1    4    David    4     90"
      ]
     },
     "metadata": {},
     "output_type": "display_data"
    }
   ],
   "source": [
    "import numpy as np\n",
    "import pandas as pd\n",
    "df1 = pd.DataFrame({\n",
    "    'id1': [1, 2, 3, 4],\n",
    "    'name': ['Alice', 'Bob', 'Charlie', 'David']\n",
    "})\n",
    "\n",
    "df2 = pd.DataFrame({\n",
    "    'id2': [3, 4, 5, 6],\n",
    "    'score': [85, 90, 95, 100]\n",
    "})\n",
    "print(df1)\n",
    "print(df2)\n",
    "#display(pd.merge(df1, df2)) #inner join par défaut\n",
    "#print(pd.merge(df1, df2, how='outer')) #outer join \n",
    "#print(pd.merge(df1, df2, how='left')) #left join\n",
    "#print(pd.merge(df1, df2, how='right')) #right join\n",
    "#La jointure externe ci-dessus produit l'union des deux tables, de sorte que toutes les lignes sont représentées, avec les valeurs manquantes insérées le cas échéant. On peut également effectuer des jointures droite et gauche pour inclure toutes les lignes de la table de droite ou de gauche (*c'est-à-dire* le premier ou le deuxième argument de `merge`), mais pas nécessairement l'autre.\n",
    "display(pd.merge(df1, df2, left_index=True, right_index=True)) #jointure sur les index des deux DataFrames\n",
    "display(pd.merge(df1, df2, left_on= 'id1', right_on='id2')) #jointure sur les colonnes id1 et id2 des deux DataFrames\n"
   ]
  },
  {
   "cell_type": "markdown",
   "metadata": {},
   "source": [
    "### Concatenate\n"
   ]
  },
  {
   "cell_type": "markdown",
   "metadata": {},
   "source": [
    "### Pivoting"
   ]
  },
  {
   "cell_type": "markdown",
   "metadata": {},
   "source": [
    "### Data transformation (values remplacement , indecator variable)\n"
   ]
  },
  {
   "cell_type": "code",
   "execution_count": 15,
   "metadata": {},
   "outputs": [
    {
     "name": "stdout",
     "output_type": "stream",
     "text": [
      "  vessel   type\n",
      "0      A  ferry\n",
      "1      B  ferry\n",
      "2      C   ship\n",
      "3      D   ship\n",
      "  vessel  type\n",
      "0      A     1\n",
      "1      B     1\n",
      "2      C     0\n",
      "3      D     0\n",
      "  vessel   type\n",
      "0      A  ferry\n",
      "1      B  ferry\n",
      "2      C   ship\n",
      "3      D   ship\n"
     ]
    }
   ],
   "source": [
    "vessels = pd.DataFrame({'vessel': ['A', 'B', 'C', 'D'], 'type': ['ferry', 'ferry', 'ship', 'ship']})\n",
    "print(vessels)\n",
    "vessels.duplicated(subset='type').head(30) #return True if the row is duplicated\n",
    "vessels.drop_duplicates(['type']).head() #remove the duplicated rows\n",
    "vessels['type'] = vessels.type.map({'ferry': 1, 'ship': 0}) #replace the values of the column type by 1 if ferry and 0 if ship\n",
    "vessels.drop(columns=['type'], axis=1) #remove the column type\n",
    "print(vessels)\n",
    "vessels.vessel.replace({'A': 'Alpha', 'B': 'Bravo', 'C': 'Charlie', 'D': 'Delta'}).head(10)\n",
    "vessels['type'] = vessels['type'].replace({1: 'ferry', 0: 'ship'}) # replace the values back to ferry and ship\n",
    "print(vessels)\n",
    "\n",
    "#inplace=True #modifie l'objet d'origine directement. Aucun nouvel objet n'est retourné.\n",
    "vessels.rename(columns={'type': 'vessel_type'}, inplace=True) #rename the column type to vessel_type\n",
    "\n",
    "\n"
   ]
  },
  {
   "cell_type": "markdown",
   "metadata": {},
   "source": [
    "### Caterorical data /discretization\n"
   ]
  },
  {
   "cell_type": "code",
   "execution_count": null,
   "metadata": {},
   "outputs": [],
   "source": [
    "cdystonia['treat'] = cdystonia.treat.astype('category') #§change the type of the column treat to category\n",
    "\n",
    "pd.cut(cdystonia.age, [20,30,40,50,60,70,80,90], right=False , labels=['young','middle-aged','old','really old'])\n",
    "#Dans ce cas, l'appel à pd.cut(cdystonia.age, [20,30,40,50,60,70,80,90]) divise la colonne age du DataFrame cdystonia en intervalles spécifiés par la liste [20,30,40,50,60,70,80,90]. Cela signifie que les âges seront classés dans les catégories suivantes : 20-30, 30-40, 40-50, 50-60, 60-70, 70-80, et 80-90 ans. La fonction retourne une série d'objets catégoriels indiquant à quel intervalle chaque valeur appartie #right=False : les intervalles sont fermés à gauche et ouverts à droite\n",
    "#labels : remplace les intervalles par les labels spécifiés\n",
    "pd.qcut(cdystonia.age, 4) #A related function `qcut` uses empirical quantiles to divide the data. If, for example, we want the quartiles -- (0-25%], (25-50%], (50-70%], (75-100%] -- we can just specify 4 intervals, which will be equally-spaced by default:\n",
    "quantiles = pd.qcut(segments.seg_length, [0, 0.01, 0.05, 0.95, 0.99, 1]) #retourn des divisions personnalisées\n"
   ]
  },
  {
   "cell_type": "markdown",
   "metadata": {},
   "source": [
    "### Permutation and sampling"
   ]
  },
  {
   "cell_type": "code",
   "execution_count": null,
   "metadata": {},
   "outputs": [],
   "source": [
    "vessels.sample(n=10) #utilise la méthode sample de la bibliothèque Pandas pour sélectionner un échantillon aléatoire de 10 lignes à partir du DataFrame"
   ]
  },
  {
   "cell_type": "markdown",
   "metadata": {},
   "source": [
    "### Aggregation / groupe\n"
   ]
  },
  {
   "cell_type": "code",
   "execution_count": 4,
   "metadata": {},
   "outputs": [
    {
     "data": {
      "text/html": [
       "<div>\n",
       "<style scoped>\n",
       "    .dataframe tbody tr th:only-of-type {\n",
       "        vertical-align: middle;\n",
       "    }\n",
       "\n",
       "    .dataframe tbody tr th {\n",
       "        vertical-align: top;\n",
       "    }\n",
       "\n",
       "    .dataframe thead th {\n",
       "        text-align: right;\n",
       "    }\n",
       "</style>\n",
       "<table border=\"1\" class=\"dataframe\">\n",
       "  <thead>\n",
       "    <tr style=\"text-align: right;\">\n",
       "      <th></th>\n",
       "      <th>moyenne_points</th>\n",
       "      <th>somme_assists</th>\n",
       "    </tr>\n",
       "    <tr>\n",
       "      <th>team</th>\n",
       "      <th></th>\n",
       "      <th></th>\n",
       "    </tr>\n",
       "  </thead>\n",
       "  <tbody>\n",
       "    <tr>\n",
       "      <th>A</th>\n",
       "      <td>12.5</td>\n",
       "      <td>12</td>\n",
       "    </tr>\n",
       "    <tr>\n",
       "      <th>B</th>\n",
       "      <td>15.0</td>\n",
       "      <td>13</td>\n",
       "    </tr>\n",
       "    <tr>\n",
       "      <th>C</th>\n",
       "      <td>20.0</td>\n",
       "      <td>15</td>\n",
       "    </tr>\n",
       "  </tbody>\n",
       "</table>\n",
       "</div>"
      ],
      "text/plain": [
       "      moyenne_points  somme_assists\n",
       "team                               \n",
       "A               12.5             12\n",
       "B               15.0             13\n",
       "C               20.0             15"
      ]
     },
     "metadata": {},
     "output_type": "display_data"
    }
   ],
   "source": [
    "# Exemple de DataFrame\n",
    "import pandas as pd\n",
    "\n",
    "data = pd.DataFrame({\n",
    "    'team': ['A', 'A', 'B', 'B', 'C', 'C'],\n",
    "    'points': [10, 15, 10, 20, 10, 30],\n",
    "    'assists': [5, 7, 8, 5, 6, 9]\n",
    "})\n",
    "\n",
    "grouped_data = data.groupby('team').agg(moyenne_points=('points', 'mean'), somme_assists=('assists', 'sum')) #§group by team and calculate the mean of points and the sum of assists\n",
    "display(grouped_data)"
   ]
  },
  {
   "cell_type": "code",
   "execution_count": null,
   "metadata": {},
   "outputs": [],
   "source": []
  }
 ],
 "metadata": {
  "kernelspec": {
   "display_name": "ada",
   "language": "python",
   "name": "python3"
  },
  "language_info": {
   "codemirror_mode": {
    "name": "ipython",
    "version": 3
   },
   "file_extension": ".py",
   "mimetype": "text/x-python",
   "name": "python",
   "nbconvert_exporter": "python",
   "pygments_lexer": "ipython3",
   "version": "3.10.6"
  }
 },
 "nbformat": 4,
 "nbformat_minor": 2
}
